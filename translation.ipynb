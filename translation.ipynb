{
 "cells": [
  {
   "cell_type": "code",
   "execution_count": 4,
   "metadata": {
    "collapsed": true,
    "pycharm": {
     "name": "#%%\n"
    }
   },
   "outputs": [],
   "source": [
    "from models import S2SPL\n",
    "from dataset import en_de_dataset\n",
    "from utils import load_config_json\n",
    "import os"
   ]
  },
  {
   "cell_type": "code",
   "execution_count": 5,
   "outputs": [
    {
     "name": "stdout",
     "output_type": "stream",
     "text": [
      "best\\BATCH_SIZE400 LEARNING_RATE0.0001 EPOCHS100 ENCODER_TYPEGRU DECODER_TYPEGRU ATTENTION_HEAD1 ENCODER_LAYERS1 DECODER_LAYERS1 EMB_DIM150 HIDDEN_ENCODER75 HIDDEN_DECODER75 DROPOUT_ENCODER0.2 DROPOUT_DECODER0.2 BIDIRECTIONFalse\n",
      "\n",
      "best\\BATCH_SIZE400 LEARNING_RATE0.0001 EPOCHS100 ENCODER_TYPEGRU DECODER_TYPEGRU ATTENTION_HEAD1 ENCODER_LAYERS1 DECODER_LAYERS1 EMB_DIM150 HIDDEN_ENCODER75 HIDDEN_DECODER75 DROPOUT_ENCODER0.2 DROPOUT_DECODER0.2 BIDIRECTIONFalse\\-epoch=99-train_loss=3.80-training.ckpt\n",
      "\n",
      "best\\BATCH_SIZE400 LEARNING_RATE0.0001 EPOCHS100 ENCODER_TYPEGRU DECODER_TYPEGRU ATTENTION_HEAD1 ENCODER_LAYERS1 DECODER_LAYERS1 EMB_DIM150 HIDDEN_ENCODER75 HIDDEN_DECODER75 DROPOUT_ENCODER0.2 DROPOUT_DECODER0.2 BIDIRECTIONFalse\\config.json\n"
     ]
    }
   ],
   "source": [
    "path = 'BATCH_SIZE400 LEARNING_RATE0.0001 EPOCHS100 ENCODER_TYPEGRU DECODER_TYPEGRU ATTENTION_HEAD1 ENCODER_LAYERS1 DECODER_LAYERS1 EMB_DIM150 HIDDEN_ENCODER75 HIDDEN_DECODER75 DROPOUT_ENCODER0.2 DROPOUT_DECODER0.2 BIDIRECTIONFalse'#os.listdir('best')[-1] # could be replaced by the folder name\n",
    "path = os.path.join('best', path)\n",
    "\n",
    "checkpoint = '-epoch=99-train_loss=3.80-training.ckpt'#os.listdir(path)[0] # could be replaced by your own\n",
    "checkpoint = os.path.join(path, checkpoint)\n",
    "\n",
    "params = os.path.join(path, 'config.json')\n",
    "\n",
    "print(path + '\\n')\n",
    "print(checkpoint + '\\n')\n",
    "print(params)\n",
    "# path = 'best/BATCH_SIZE400 LEARNING_RATE0.0001 EPOCHS3 ENCODER_TYPEGRU DECODER_TYPEGRU ATTENTION_HEAD1 ENCODER_LAYERS1 DECODER_LAYERS1 EMB_DIM100 DROPOUT_ENCODER0 DROPOUT_DECODER0 BIDIRECTIONFalse'\n",
    "#\n",
    "# checkpoint = '-epoch=02-valid_loss=8.76.ckpt'\n",
    "\n",
    "# Initialize args\n",
    "args = load_config_json(params)"
   ],
   "metadata": {
    "collapsed": false,
    "pycharm": {
     "name": "#%%\n"
    }
   }
  },
  {
   "cell_type": "code",
   "execution_count": 6,
   "outputs": [
    {
     "name": "stdout",
     "output_type": "stream",
     "text": [
      "Input vocab size: 9666\n",
      "Target vocab size: 17790\n"
     ]
    },
    {
     "name": "stderr",
     "output_type": "stream",
     "text": [
      "C:\\Users\\83577\\anaconda3\\envs\\torch2\\lib\\site-packages\\torch\\nn\\modules\\rnn.py:71: UserWarning: dropout option adds dropout after all but last recurrent layer, so non-zero dropout expects num_layers greater than 1, but got dropout=0.2 and num_layers=1\n",
      "  warnings.warn(\"dropout option adds dropout after all but last \"\n"
     ]
    },
    {
     "ename": "TypeError",
     "evalue": "'torch.device' object is not callable",
     "output_type": "error",
     "traceback": [
      "\u001B[1;31m---------------------------------------------------------------------------\u001B[0m",
      "\u001B[1;31mTypeError\u001B[0m                                 Traceback (most recent call last)",
      "Cell \u001B[1;32mIn[6], line 16\u001B[0m\n\u001B[0;32m      4\u001B[0m s2s_model \u001B[38;5;241m=\u001B[39m S2SPL(\n\u001B[0;32m      5\u001B[0m         vocab_size_encoder\u001B[38;5;241m=\u001B[39m\u001B[38;5;28mlen\u001B[39m(trainset\u001B[38;5;241m.\u001B[39minput_vocab),\n\u001B[0;32m      6\u001B[0m         vocab_size_decoder\u001B[38;5;241m=\u001B[39m\u001B[38;5;28mlen\u001B[39m(trainset\u001B[38;5;241m.\u001B[39mtarget_vocab),\n\u001B[1;32m   (...)\u001B[0m\n\u001B[0;32m     11\u001B[0m         args\u001B[38;5;241m=\u001B[39margs\n\u001B[0;32m     12\u001B[0m )\n\u001B[0;32m     15\u001B[0m model \u001B[38;5;241m=\u001B[39m s2s_model\u001B[38;5;241m.\u001B[39mload_from_checkpoint(checkpoint)\n\u001B[1;32m---> 16\u001B[0m \u001B[43mmodel\u001B[49m\u001B[38;5;241;43m.\u001B[39;49m\u001B[43mdevice\u001B[49m\u001B[43m(\u001B[49m\u001B[38;5;124;43m'\u001B[39;49m\u001B[38;5;124;43mcpu\u001B[39;49m\u001B[38;5;124;43m'\u001B[39;49m\u001B[43m)\u001B[49m\n\u001B[0;32m     17\u001B[0m model\u001B[38;5;241m.\u001B[39meval()\n",
      "\u001B[1;31mTypeError\u001B[0m: 'torch.device' object is not callable"
     ]
    }
   ],
   "source": [
    "# Initial Dataset\n",
    "trainset = en_de_dataset(split='train')\n",
    "# Initialize model parameters\n",
    "s2s_model = S2SPL(\n",
    "        vocab_size_encoder=len(trainset.input_vocab),\n",
    "        vocab_size_decoder=len(trainset.target_vocab),\n",
    "        input_vocab=trainset.input_vocab,\n",
    "        target_vocab=trainset.target_vocab,\n",
    "        input_id_to_word=trainset.id_to_word_input,\n",
    "        target_id_to_word=trainset.id_to_word_target,\n",
    "        args=args\n",
    ")\n",
    "\n",
    "\n",
    "model = s2s_model.load_from_checkpoint(checkpoint)\n",
    "model.eval()"
   ],
   "metadata": {
    "collapsed": false,
    "pycharm": {
     "name": "#%%\n"
    }
   }
  },
  {
   "cell_type": "code",
   "execution_count": null,
   "outputs": [],
   "source": [
    "model.translate('A man walking on the street')"
   ],
   "metadata": {
    "collapsed": false,
    "pycharm": {
     "name": "#%%\n"
    }
   }
  },
  {
   "cell_type": "code",
   "execution_count": null,
   "outputs": [],
   "source": [
    "input_pair, target_pair = trainset.random_pairs()\n",
    "print((input_pair, target_pair))\n",
    "model.translate(input_pair)"
   ],
   "metadata": {
    "collapsed": false,
    "pycharm": {
     "name": "#%%\n"
    }
   }
  }
 ],
 "metadata": {
  "kernelspec": {
   "display_name": "Python 3",
   "language": "python",
   "name": "python3"
  },
  "language_info": {
   "codemirror_mode": {
    "name": "ipython",
    "version": 2
   },
   "file_extension": ".py",
   "mimetype": "text/x-python",
   "name": "python",
   "nbconvert_exporter": "python",
   "pygments_lexer": "ipython2",
   "version": "2.7.6"
  }
 },
 "nbformat": 4,
 "nbformat_minor": 0
}