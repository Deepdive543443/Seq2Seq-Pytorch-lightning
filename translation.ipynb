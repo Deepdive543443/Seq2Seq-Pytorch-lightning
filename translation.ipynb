{
 "cells": [
  {
   "cell_type": "code",
   "execution_count": 1,
   "metadata": {
    "collapsed": true,
    "pycharm": {
     "name": "#%%\n"
    }
   },
   "outputs": [
    {
     "name": "stderr",
     "output_type": "stream",
     "text": [
      "C:\\Users\\83577\\anaconda3\\envs\\torch\\lib\\site-packages\\torchtext\\data\\utils.py:105: UserWarning: Spacy model \"en\" could not be loaded, trying \"en_core_web_sm\" instead\n",
      "  warnings.warn(\n",
      "C:\\Users\\83577\\anaconda3\\envs\\torch\\lib\\site-packages\\torchtext\\data\\utils.py:105: UserWarning: Spacy model \"de\" could not be loaded, trying \"de_core_news_sm\" instead\n",
      "  warnings.warn(\n"
     ]
    }
   ],
   "source": [
    "import torch\n",
    "\n",
    "from models import S2SPL\n",
    "from dataset import en_de_dataset\n",
    "from utils import load_config_json\n",
    "import os\n",
    "from torchtext.data.metrics import bleu_score"
   ]
  },
  {
   "cell_type": "code",
   "execution_count": 2,
   "outputs": [
    {
     "name": "stdout",
     "output_type": "stream",
     "text": [
      "best\\DEVICEcuda BATCH_SIZE256 LEARNING_RATE0.0001 EPOCHS300 ENCODER_TYPEGRU DECODER_TYPEGRU ATTENTION_HEAD1 ENCODER_LAYERS2 DECODER_LAYERS4 EMB_DIM300 HIDDEN_ENCODER1024 HIDDEN_DECODER1024 DROPOUT_ENCODER0.5 DROPOUT_DECODER0.5 BIDIRECTIONTrue PAIR('de', 'en')\n",
      "\n",
      "best\\DEVICEcuda BATCH_SIZE256 LEARNING_RATE0.0001 EPOCHS300 ENCODER_TYPEGRU DECODER_TYPEGRU ATTENTION_HEAD1 ENCODER_LAYERS2 DECODER_LAYERS4 EMB_DIM300 HIDDEN_ENCODER1024 HIDDEN_DECODER1024 DROPOUT_ENCODER0.5 DROPOUT_DECODER0.5 BIDIRECTIONTrue PAIR('de', 'en')\\-epoch=28-valid_loss=2.99-validation.ckpt\n",
      "\n",
      "best\\DEVICEcuda BATCH_SIZE256 LEARNING_RATE0.0001 EPOCHS300 ENCODER_TYPEGRU DECODER_TYPEGRU ATTENTION_HEAD1 ENCODER_LAYERS2 DECODER_LAYERS4 EMB_DIM300 HIDDEN_ENCODER1024 HIDDEN_DECODER1024 DROPOUT_ENCODER0.5 DROPOUT_DECODER0.5 BIDIRECTIONTrue PAIR('de', 'en')\\config.json\n"
     ]
    }
   ],
   "source": [
    "path = os.listdir('best')[-1] # could be replaced by the folder name\n",
    "path = os.path.join('best', path)\n",
    "\n",
    "checkpoint = os.listdir(path)[0] # could be replaced by your own\n",
    "checkpoint = os.path.join(path, checkpoint)\n",
    "\n",
    "params = os.path.join(path, 'config.json')\n",
    "\n",
    "print(path + '\\n')\n",
    "print(checkpoint + '\\n')\n",
    "print(params)\n",
    "\n",
    "# Initialize args\n",
    "args = load_config_json(params)\n",
    "\n",
    "args['DEVICE'] = 'cpu'"
   ],
   "metadata": {
    "collapsed": false,
    "pycharm": {
     "name": "#%%\n"
    }
   }
  },
  {
   "cell_type": "code",
   "execution_count": 3,
   "outputs": [
    {
     "name": "stdout",
     "output_type": "stream",
     "text": [
      "Input vocab size: 8014\n",
      "Target vocab size: 6191\n"
     ]
    },
    {
     "data": {
      "text/plain": "S2SPL(\n  (encoder): RNNEncoder(\n    (emb): Embedding(8014, 300)\n    (rnn): GRU(300, 1024, num_layers=2, dropout=0.5, bidirectional=True)\n    (dropout): Dropout(p=0.5, inplace=False)\n    (output_reduce): Linear(in_features=2048, out_features=1024, bias=True)\n  )\n  (decoder): RNNDecoder(\n    (emb): Embedding(6191, 300)\n    (rnn): GRU(1324, 1024, num_layers=4, dropout=0.5)\n    (dropout): Dropout(p=0.5, inplace=False)\n    (softmax): Softmax(dim=2)\n    (decode): Linear(in_features=1024, out_features=6191, bias=True)\n  )\n  (cross_entrophy): CrossEntropyLoss()\n)"
     },
     "execution_count": 3,
     "metadata": {},
     "output_type": "execute_result"
    }
   ],
   "source": [
    "# Initial Dataset\n",
    "trainset = en_de_dataset(split='train', pair=args['PAIR'])\n",
    "# Initialize model parameters\n",
    "s2s_model = S2SPL(\n",
    "        vocab_size_encoder=len(trainset.input_vocab),\n",
    "        vocab_size_decoder=len(trainset.target_vocab),\n",
    "        input_vocab=trainset.input_vocab,\n",
    "        target_vocab=trainset.target_vocab,\n",
    "        input_id_to_word=trainset.id_to_word_input,\n",
    "        target_id_to_word=trainset.id_to_word_target,\n",
    "        args=args\n",
    ")\n",
    "\n",
    "\n",
    "model = s2s_model.load_from_checkpoint(checkpoint)\n",
    "model.eval()"
   ],
   "metadata": {
    "collapsed": false,
    "pycharm": {
     "name": "#%%\n"
    }
   }
  },
  {
   "cell_type": "code",
   "execution_count": 4,
   "outputs": [
    {
     "data": {
      "text/plain": "('A man is on the the of the <unk> .', 0.0)"
     },
     "execution_count": 4,
     "metadata": {},
     "output_type": "execute_result"
    }
   ],
   "source": [
    "output = model.translate('Ein Mann geht am Strasse', 'A man walking on the street.' )\n",
    "\n",
    "output"
   ],
   "metadata": {
    "collapsed": false,
    "pycharm": {
     "name": "#%%\n"
    }
   }
  },
  {
   "cell_type": "code",
   "execution_count": 20,
   "outputs": [
    {
     "name": "stdout",
     "output_type": "stream",
     "text": [
      "('Fünf Männer in roten Oberteilen stehen auf einem Basketballfeld in einer Reihe, vier von ihnen haben die Hand auf dem Herzen und schauen nach oben.', 'Five men in red shirts, in a line, on a basketball court, four with hands on their hearts, and same four looking upward.')\n",
      "('Five men in white uniforms are standing on a field , one of a , one of the , and', 0.0)\n"
     ]
    }
   ],
   "source": [
    "input_pair, target_pair = trainset.random_pairs()\n",
    "print((input_pair, target_pair))\n",
    "print(model.translate(input_pair, target_pair))"
   ],
   "metadata": {
    "collapsed": false,
    "pycharm": {
     "name": "#%%\n"
    }
   }
  },
  {
   "cell_type": "code",
   "execution_count": 6,
   "outputs": [
    {
     "name": "stdout",
     "output_type": "stream",
     "text": [
      "tensor([[[2.6760e-10, 2.5472e-12, 5.6875e-14, 1.2963e-06, 6.2832e-12,\n",
      "          9.7142e-07, 1.0000e+00, 0.0000e+00, 0.0000e+00, 0.0000e+00],\n",
      "         [9.7744e-01, 1.2379e-12, 2.2534e-02, 8.1934e-07, 1.4084e-16,\n",
      "          2.9267e-05, 5.4172e-09, 0.0000e+00, 0.0000e+00, 0.0000e+00]],\n",
      "\n",
      "        [[9.2791e-03, 2.6948e-13, 7.8816e-06, 9.8889e-01, 1.8275e-03,\n",
      "          0.0000e+00, 0.0000e+00, 0.0000e+00, 0.0000e+00, 0.0000e+00],\n",
      "         [9.9858e-01, 5.6932e-12, 1.7519e-17, 2.5815e-05, 1.3911e-03,\n",
      "          0.0000e+00, 0.0000e+00, 0.0000e+00, 0.0000e+00, 0.0000e+00]]])\n",
      "torch.Size([2, 2, 300])\n",
      "torch.Size([2, 2, 300])\n",
      "torch.Size([1, 2, 300]) torch.Size([1, 2, 300])\n"
     ]
    }
   ],
   "source": [
    "# import math\n",
    "# def attn(query, key, value, input_indice):\n",
    "#\n",
    "#         input_indice_ext = input_indice.unsqueeze(1).repeat(1, query.shape[0], 1)\n",
    "#         query = query.permute(1, 0, 2) # [seq_dec, batch, features] -> [batch, seq_dec, features]\n",
    "#         key = key.permute(1, 2, 0) # [seq_enc, batch, features] -> [batch, features, seq_enc]\n",
    "#         value =  value.permute(1, 0, 2)\n",
    "#         # Getting attention score with mask\n",
    "#         score = torch.bmm(query, key)/ math.sqrt(query.shape[1]) # [batch, seq_dec, seq_enc]\n",
    "#         score[input_indice_ext == 0] = -9e3\n",
    "#\n",
    "#\n",
    "#         score = torch.softmax(score, dim=2)\n",
    "#         print(score)\n",
    "#\n",
    "#         attn_output = torch.bmm(score, value)\n",
    "#         print(attn_output.shape)\n",
    "#         return attn_output.permute(1, 0, 2)\n",
    "#\n",
    "#\n",
    "#\n",
    "# query = torch.randn(2, 2, 300)\n",
    "#\n",
    "# input_indice = torch.randint(4, 9000, (2, 10))\n",
    "# input_indice[0, -4:] = 0\n",
    "# input_indice[1, -6:] = 0\n",
    "# input_indice[0, -4] = 3\n",
    "# input_indice[1, -6] = 3\n",
    "# key = torch.randn(10, 2, 300)\n",
    "# value = key\n",
    "#\n",
    "# print(attn(query, key, value, input_indice).shape)\n",
    "# print(key[(input_indice == 3).T].unsqueeze(0).shape, key[-1].unsqueeze(0).shape)"
   ],
   "metadata": {
    "collapsed": false,
    "pycharm": {
     "name": "#%%\n"
    }
   }
  }
 ],
 "metadata": {
  "kernelspec": {
   "display_name": "Python 3",
   "language": "python",
   "name": "python3"
  },
  "language_info": {
   "codemirror_mode": {
    "name": "ipython",
    "version": 2
   },
   "file_extension": ".py",
   "mimetype": "text/x-python",
   "name": "python",
   "nbconvert_exporter": "python",
   "pygments_lexer": "ipython2",
   "version": "2.7.6"
  }
 },
 "nbformat": 4,
 "nbformat_minor": 0
}