{
 "cells": [
  {
   "cell_type": "code",
   "execution_count": 16,
   "metadata": {
    "collapsed": true,
    "pycharm": {
     "name": "#%%\n"
    }
   },
   "outputs": [],
   "source": [
    "from models import S2SPL\n",
    "from dataset import en_de_dataset\n",
    "from utils import load_config_json\n",
    "import os"
   ]
  },
  {
   "cell_type": "code",
   "execution_count": 17,
   "outputs": [
    {
     "name": "stdout",
     "output_type": "stream",
     "text": [
      "best\\DEVICEcuda BATCH_SIZE128 LEARNING_RATE0.001 EPOCHS50 ENCODER_TYPEGRU DECODER_TYPEGRU ATTENTION_HEAD1 ENCODER_LAYERS1 DECODER_LAYERS1 EMB_DIM150 HIDDEN_ENCODER75 HIDDEN_DECODER75 DROPOUT_ENCODER0.5 DROPOUT_DECODER0.5 BIDIRECTIONFalse\n",
      "\n",
      "best\\DEVICEcuda BATCH_SIZE128 LEARNING_RATE0.001 EPOCHS50 ENCODER_TYPEGRU DECODER_TYPEGRU ATTENTION_HEAD1 ENCODER_LAYERS1 DECODER_LAYERS1 EMB_DIM150 HIDDEN_ENCODER75 HIDDEN_DECODER75 DROPOUT_ENCODER0.5 DROPOUT_DECODER0.5 BIDIRECTIONFalse\\-epoch=49-train_loss=3.26-training.ckpt\n",
      "\n",
      "best\\DEVICEcuda BATCH_SIZE128 LEARNING_RATE0.001 EPOCHS50 ENCODER_TYPEGRU DECODER_TYPEGRU ATTENTION_HEAD1 ENCODER_LAYERS1 DECODER_LAYERS1 EMB_DIM150 HIDDEN_ENCODER75 HIDDEN_DECODER75 DROPOUT_ENCODER0.5 DROPOUT_DECODER0.5 BIDIRECTIONFalse\\config.json\n"
     ]
    }
   ],
   "source": [
    "path = os.listdir('best')[-1] # could be replaced by the folder name\n",
    "path = os.path.join('best', path)\n",
    "\n",
    "checkpoint = '-epoch=49-train_loss=3.26-training.ckpt'#os.listdir(path)[0] # could be replaced by your own\n",
    "checkpoint = os.path.join(path, checkpoint)\n",
    "\n",
    "params = os.path.join(path, 'config.json')\n",
    "\n",
    "print(path + '\\n')\n",
    "print(checkpoint + '\\n')\n",
    "print(params)\n",
    "# path = 'best/BATCH_SIZE400 LEARNING_RATE0.0001 EPOCHS3 ENCODER_TYPEGRU DECODER_TYPEGRU ATTENTION_HEAD1 ENCODER_LAYERS1 DECODER_LAYERS1 EMB_DIM100 DROPOUT_ENCODER0 DROPOUT_DECODER0 BIDIRECTIONFalse'\n",
    "#\n",
    "# checkpoint = '-epoch=02-valid_loss=8.76.ckpt'\n",
    "\n",
    "# Initialize args\n",
    "args = load_config_json(params)\n",
    "\n",
    "args['DEVICE'] = 'cpu'"
   ],
   "metadata": {
    "collapsed": false,
    "pycharm": {
     "name": "#%%\n"
    }
   }
  },
  {
   "cell_type": "code",
   "execution_count": 18,
   "outputs": [
    {
     "name": "stdout",
     "output_type": "stream",
     "text": [
      "Input vocab size: 9666\n",
      "Target vocab size: 17790\n"
     ]
    },
    {
     "data": {
      "text/plain": "S2SPL(\n  (encoder): RNNEncoder(\n    (emb): Embedding(9666, 150)\n    (rnn): GRU(150, 75, dropout=0.5)\n    (dropout): Dropout(p=0.5, inplace=False)\n  )\n  (decoder): RNNDecoder(\n    (emb): Embedding(17790, 150)\n    (rnn): GRU(150, 75, dropout=0.5)\n    (dropout): Dropout(p=0.5, inplace=False)\n    (decode): Linear(in_features=75, out_features=17790, bias=True)\n  )\n  (cross_entrophy): CrossEntropyLoss()\n)"
     },
     "execution_count": 18,
     "metadata": {},
     "output_type": "execute_result"
    }
   ],
   "source": [
    "# Initial Dataset\n",
    "trainset = en_de_dataset(split='train')\n",
    "# Initialize model parameters\n",
    "s2s_model = S2SPL(\n",
    "        vocab_size_encoder=len(trainset.input_vocab),\n",
    "        vocab_size_decoder=len(trainset.target_vocab),\n",
    "        input_vocab=trainset.input_vocab,\n",
    "        target_vocab=trainset.target_vocab,\n",
    "        input_id_to_word=trainset.id_to_word_input,\n",
    "        target_id_to_word=trainset.id_to_word_target,\n",
    "        args=args\n",
    ")\n",
    "\n",
    "\n",
    "model = s2s_model.load_from_checkpoint(checkpoint)\n",
    "model.eval()"
   ],
   "metadata": {
    "collapsed": false,
    "pycharm": {
     "name": "#%%\n"
    }
   }
  },
  {
   "cell_type": "code",
   "execution_count": 19,
   "outputs": [
    {
     "name": "stdout",
     "output_type": "stream",
     "text": [
      "['man', 'walking', 'on', 'the', 'street']\n",
      "[28, 64, 33, 38, 59]\n",
      "['ein', 'mann', 'auf', 'auf', '<eos>', '<eos>', '<eos>', '<eos>', '<eos>', '<eos>', '<eos>', '<eos>', '<eos>', '<eos>', '<eos>', '<eos>', '<eos>', '<eos>', '<eos>', '<eos>']\n"
     ]
    },
    {
     "data": {
      "text/plain": "['ein',\n 'mann',\n 'auf',\n 'auf',\n '<eos>',\n '<eos>',\n '<eos>',\n '<eos>',\n '<eos>',\n '<eos>',\n '<eos>',\n '<eos>',\n '<eos>',\n '<eos>',\n '<eos>',\n '<eos>',\n '<eos>',\n '<eos>',\n '<eos>',\n '<eos>']"
     },
     "execution_count": 19,
     "metadata": {},
     "output_type": "execute_result"
    }
   ],
   "source": [
    "model.translate('A man walking on the street')"
   ],
   "metadata": {
    "collapsed": false,
    "pycharm": {
     "name": "#%%\n"
    }
   }
  },
  {
   "cell_type": "code",
   "execution_count": 33,
   "outputs": [
    {
     "name": "stdout",
     "output_type": "stream",
     "text": [
      "('It looks like choir practice in an older ornate church.', 'Es sieht aus, wie eine Chorprobe in einer älteren, prunkvollen Kirche.')\n",
      "['it', 'looks', 'like', 'choir', 'practice', 'in', 'an', 'older', 'ornate', 'church']\n",
      "[548, 224, 173, 2688, 2848, 15, 204, 492, 2020, 948]\n",
      "['eine', 'stehen', 'sich', 'in', 'in', 'eine', '<eos>', '<eos>', '<eos>', '<eos>', '<eos>', '<eos>', '<eos>', '<eos>', '<eos>', '<eos>', '<eos>', '<eos>', '<eos>', '<eos>']\n"
     ]
    },
    {
     "data": {
      "text/plain": "['eine',\n 'stehen',\n 'sich',\n 'in',\n 'in',\n 'eine',\n '<eos>',\n '<eos>',\n '<eos>',\n '<eos>',\n '<eos>',\n '<eos>',\n '<eos>',\n '<eos>',\n '<eos>',\n '<eos>',\n '<eos>',\n '<eos>',\n '<eos>',\n '<eos>']"
     },
     "execution_count": 33,
     "metadata": {},
     "output_type": "execute_result"
    }
   ],
   "source": [
    "input_pair, target_pair = trainset.random_pairs()\n",
    "print((input_pair, target_pair))\n",
    "model.translate(input_pair)"
   ],
   "metadata": {
    "collapsed": false,
    "pycharm": {
     "name": "#%%\n"
    }
   }
  }
 ],
 "metadata": {
  "kernelspec": {
   "display_name": "Python 3",
   "language": "python",
   "name": "python3"
  },
  "language_info": {
   "codemirror_mode": {
    "name": "ipython",
    "version": 2
   },
   "file_extension": ".py",
   "mimetype": "text/x-python",
   "name": "python",
   "nbconvert_exporter": "python",
   "pygments_lexer": "ipython2",
   "version": "2.7.6"
  }
 },
 "nbformat": 4,
 "nbformat_minor": 0
}