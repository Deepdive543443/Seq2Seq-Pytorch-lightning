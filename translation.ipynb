{
 "cells": [
  {
   "cell_type": "code",
   "execution_count": 5,
   "metadata": {
    "collapsed": true,
    "pycharm": {
     "name": "#%%\n"
    }
   },
   "outputs": [],
   "source": [
    "from models import S2SPL\n",
    "from dataset import en_de_dataset\n",
    "from config import args"
   ]
  },
  {
   "cell_type": "code",
   "execution_count": 6,
   "outputs": [
    {
     "name": "stdout",
     "output_type": "stream",
     "text": [
      "Input vocab size: 9666\n",
      "Target vocab size: 17790\n"
     ]
    },
    {
     "data": {
      "text/plain": "S2SPL(\n  (encoder): RNNEncoder(\n    (emb): Embedding(9666, 300)\n    (rnn): GRU(300, 300)\n  )\n  (decoder): RNNDecoder(\n    (emb): Embedding(17790, 300)\n    (rnn): GRU(300, 300)\n    (attn): MultiheadAttention(\n      (out_proj): NonDynamicallyQuantizableLinear(in_features=300, out_features=300, bias=True)\n    )\n    (decode): Linear(in_features=300, out_features=17790, bias=True)\n  )\n  (cross_entrophy): CrossEntropyLoss()\n)"
     },
     "execution_count": 6,
     "metadata": {},
     "output_type": "execute_result"
    }
   ],
   "source": [
    "\n",
    "# Initial Dataset\n",
    "trainset = en_de_dataset(split='train')\n",
    "# Initialize model parameters\n",
    "s2s_model = S2SPL(\n",
    "    vocab_size_encoder=len(trainset.input_vocab),\n",
    "    emb_dim=args['EMB_DIM'],\n",
    "    encoder_layers=args['ENCODER_LAYERS'],\n",
    "    bidirection=args['BIDIRECTION'],\n",
    "    vocab_size_decoder=len(trainset.target_vocab),\n",
    "    decoder_layers=args['DECODER_LAYERS'],\n",
    "    attn_head=args['ATTENTION_HEAD'],\n",
    "    learning_rate=args['LEARNING_RATE'],\n",
    "    encoder_type=args['ENCODER_TYPE'],\n",
    "    decoder_type=args['DECODER_TYPE'],\n",
    "\n",
    "    input_vocab=trainset.input_vocab,\n",
    "    target_vocab=trainset.target_vocab,\n",
    "    input_id_to_word=trainset.id_to_word_input,\n",
    "    target_id_to_word=trainset.id_to_word_target\n",
    ")\n",
    "\n",
    "model = s2s_model.load_from_checkpoint('best/BATCH_SIZE400 LEARNING_RATE0.0001 EPOCHS100 ENCODER_TYPEGRU DECODER_TYPEGRU ATTENTION_HEAD1 ENCODER_LAYERS1 DECODER_LAYERS1 EMB_DIM300 BIDIRECTIONFalse/-epoch=55-valid_loss=1.45.ckpt')\n",
    "model.eval()"
   ],
   "metadata": {
    "collapsed": false,
    "pycharm": {
     "name": "#%%\n"
    }
   }
  },
  {
   "cell_type": "code",
   "execution_count": 14,
   "outputs": [
    {
     "name": "stdout",
     "output_type": "stream",
     "text": [
      "['man', 'walking', 'on', 'the', 'street']\n",
      "[28, 64, 33, 38, 59]\n"
     ]
    },
    {
     "data": {
      "text/plain": "['mann',\n 'der',\n 'der',\n 'der',\n 'der',\n 'der',\n 'der',\n 'der',\n 'der',\n 'straße',\n 'straße',\n 'straße',\n 'der',\n 'der',\n 'der',\n 'der',\n 'der',\n 'der',\n 'der',\n 'der',\n 'der']"
     },
     "execution_count": 14,
     "metadata": {},
     "output_type": "execute_result"
    }
   ],
   "source": [
    "model.translation('A man walking on the street')"
   ],
   "metadata": {
    "collapsed": false,
    "pycharm": {
     "name": "#%%\n"
    }
   }
  },
  {
   "cell_type": "code",
   "execution_count": 36,
   "outputs": [
    {
     "name": "stdout",
     "output_type": "stream",
     "text": [
      "('Construction workers building a frame for a structure.', 'Bauarbeiter bauen einen Rahmen für eine Konstruktion.')\n",
      "['construction', 'workers', 'building', 'frame', 'for', 'structure']\n",
      "[408, 580, 369, 707, 297, 132]\n"
     ]
    },
    {
     "data": {
      "text/plain": "['bauarbeiter',\n 'bauen',\n 'bauen',\n 'bier',\n 'einem',\n 'einem',\n 'markt',\n 'markt',\n 'markt',\n 'markt',\n 'markt',\n 'markt',\n 'markt',\n 'markt',\n 'markt',\n 'markt',\n 'markt',\n 'markt',\n 'reifenschaukel',\n 'reifenschaukel',\n 'reifenschaukel']"
     },
     "execution_count": 36,
     "metadata": {},
     "output_type": "execute_result"
    }
   ],
   "source": [
    "input_pair, target_pair = trainset.random_pairs()\n",
    "print((input_pair, target_pair))\n",
    "model.translation(input_pair)"
   ],
   "metadata": {
    "collapsed": false,
    "pycharm": {
     "name": "#%%\n"
    }
   }
  }
 ],
 "metadata": {
  "kernelspec": {
   "display_name": "Python 3",
   "language": "python",
   "name": "python3"
  },
  "language_info": {
   "codemirror_mode": {
    "name": "ipython",
    "version": 2
   },
   "file_extension": ".py",
   "mimetype": "text/x-python",
   "name": "python",
   "nbconvert_exporter": "python",
   "pygments_lexer": "ipython2",
   "version": "2.7.6"
  }
 },
 "nbformat": 4,
 "nbformat_minor": 0
}