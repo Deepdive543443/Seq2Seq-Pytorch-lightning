{
 "cells": [
  {
   "cell_type": "code",
   "execution_count": 1,
   "metadata": {
    "collapsed": true,
    "pycharm": {
     "name": "#%%\n"
    }
   },
   "outputs": [],
   "source": [
    "from models import S2SPL\n",
    "from dataset import en_de_dataset\n",
    "from utils import load_config_json\n",
    "import os"
   ]
  },
  {
   "cell_type": "code",
   "execution_count": 2,
   "outputs": [
    {
     "name": "stdout",
     "output_type": "stream",
     "text": [
      "best\\BATCH_SIZE400 LEARNING_RATE0.0001 EPOCHS300 ENCODER_TYPEGRU DECODER_TYPEGRU ATTENTION_HEAD1 ENCODER_LAYERS2 DECODER_LAYERS2 EMB_DIM100 DROPOUT_ENCODER0.2 DROPOUT_DECODER0.2 BIDIRECTIONFalse\n",
      "\n",
      "best\\BATCH_SIZE400 LEARNING_RATE0.0001 EPOCHS300 ENCODER_TYPEGRU DECODER_TYPEGRU ATTENTION_HEAD1 ENCODER_LAYERS2 DECODER_LAYERS2 EMB_DIM100 DROPOUT_ENCODER0.2 DROPOUT_DECODER0.2 BIDIRECTIONFalse\\-epoch=19-valid_loss=5.81-validation.ckpt\n",
      "\n",
      "best\\BATCH_SIZE400 LEARNING_RATE0.0001 EPOCHS300 ENCODER_TYPEGRU DECODER_TYPEGRU ATTENTION_HEAD1 ENCODER_LAYERS2 DECODER_LAYERS2 EMB_DIM100 DROPOUT_ENCODER0.2 DROPOUT_DECODER0.2 BIDIRECTIONFalse\\config.json\n"
     ]
    }
   ],
   "source": [
    "path = os.listdir('best')[-1] # could be replaced by the folder name\n",
    "path = os.path.join('best', path)\n",
    "\n",
    "checkpoint = os.listdir(path)[0] # could be replaced by your own\n",
    "checkpoint = os.path.join(path, checkpoint)\n",
    "\n",
    "params = os.path.join(path, 'config.json')\n",
    "\n",
    "print(path + '\\n')\n",
    "print(checkpoint + '\\n')\n",
    "print(params)\n",
    "# path = 'best/BATCH_SIZE400 LEARNING_RATE0.0001 EPOCHS3 ENCODER_TYPEGRU DECODER_TYPEGRU ATTENTION_HEAD1 ENCODER_LAYERS1 DECODER_LAYERS1 EMB_DIM100 DROPOUT_ENCODER0 DROPOUT_DECODER0 BIDIRECTIONFalse'\n",
    "#\n",
    "# checkpoint = '-epoch=02-valid_loss=8.76.ckpt'\n",
    "\n",
    "# Initialize args\n",
    "args = load_config_json(params)"
   ],
   "metadata": {
    "collapsed": false,
    "pycharm": {
     "name": "#%%\n"
    }
   }
  },
  {
   "cell_type": "code",
   "execution_count": 3,
   "outputs": [
    {
     "name": "stdout",
     "output_type": "stream",
     "text": [
      "Input vocab size: 9666\n",
      "Target vocab size: 17790\n"
     ]
    },
    {
     "ename": "TypeError",
     "evalue": "__init__() missing 2 required positional arguments: 'hidden_encoder' and 'hidden_decoder'",
     "output_type": "error",
     "traceback": [
      "\u001B[1;31m---------------------------------------------------------------------------\u001B[0m",
      "\u001B[1;31mTypeError\u001B[0m                                 Traceback (most recent call last)",
      "Cell \u001B[1;32mIn[3], line 4\u001B[0m\n\u001B[0;32m      2\u001B[0m trainset \u001B[38;5;241m=\u001B[39m en_de_dataset(split\u001B[38;5;241m=\u001B[39m\u001B[38;5;124m'\u001B[39m\u001B[38;5;124mtrain\u001B[39m\u001B[38;5;124m'\u001B[39m)\n\u001B[0;32m      3\u001B[0m \u001B[38;5;66;03m# Initialize model parameters\u001B[39;00m\n\u001B[1;32m----> 4\u001B[0m s2s_model \u001B[38;5;241m=\u001B[39m \u001B[43mS2SPL\u001B[49m\u001B[43m(\u001B[49m\n\u001B[0;32m      5\u001B[0m \u001B[43m        \u001B[49m\u001B[43mvocab_size_encoder\u001B[49m\u001B[38;5;241;43m=\u001B[39;49m\u001B[38;5;28;43mlen\u001B[39;49m\u001B[43m(\u001B[49m\u001B[43mtrainset\u001B[49m\u001B[38;5;241;43m.\u001B[39;49m\u001B[43minput_vocab\u001B[49m\u001B[43m)\u001B[49m\u001B[43m,\u001B[49m\n\u001B[0;32m      6\u001B[0m \u001B[43m        \u001B[49m\u001B[43memb_dim\u001B[49m\u001B[38;5;241;43m=\u001B[39;49m\u001B[43margs\u001B[49m\u001B[43m[\u001B[49m\u001B[38;5;124;43m'\u001B[39;49m\u001B[38;5;124;43mEMB_DIM\u001B[39;49m\u001B[38;5;124;43m'\u001B[39;49m\u001B[43m]\u001B[49m\u001B[43m,\u001B[49m\n\u001B[0;32m      7\u001B[0m \u001B[43m        \u001B[49m\u001B[43mencoder_layers\u001B[49m\u001B[38;5;241;43m=\u001B[39;49m\u001B[43margs\u001B[49m\u001B[43m[\u001B[49m\u001B[38;5;124;43m'\u001B[39;49m\u001B[38;5;124;43mENCODER_LAYERS\u001B[39;49m\u001B[38;5;124;43m'\u001B[39;49m\u001B[43m]\u001B[49m\u001B[43m,\u001B[49m\n\u001B[0;32m      8\u001B[0m \u001B[43m        \u001B[49m\u001B[43mbidirection\u001B[49m\u001B[38;5;241;43m=\u001B[39;49m\u001B[43margs\u001B[49m\u001B[43m[\u001B[49m\u001B[38;5;124;43m'\u001B[39;49m\u001B[38;5;124;43mBIDIRECTION\u001B[39;49m\u001B[38;5;124;43m'\u001B[39;49m\u001B[43m]\u001B[49m\u001B[43m,\u001B[49m\n\u001B[0;32m      9\u001B[0m \u001B[43m        \u001B[49m\u001B[43mvocab_size_decoder\u001B[49m\u001B[38;5;241;43m=\u001B[39;49m\u001B[38;5;28;43mlen\u001B[39;49m\u001B[43m(\u001B[49m\u001B[43mtrainset\u001B[49m\u001B[38;5;241;43m.\u001B[39;49m\u001B[43mtarget_vocab\u001B[49m\u001B[43m)\u001B[49m\u001B[43m,\u001B[49m\n\u001B[0;32m     10\u001B[0m \u001B[43m        \u001B[49m\u001B[43mdecoder_layers\u001B[49m\u001B[38;5;241;43m=\u001B[39;49m\u001B[43margs\u001B[49m\u001B[43m[\u001B[49m\u001B[38;5;124;43m'\u001B[39;49m\u001B[38;5;124;43mDECODER_LAYERS\u001B[39;49m\u001B[38;5;124;43m'\u001B[39;49m\u001B[43m]\u001B[49m\u001B[43m,\u001B[49m\n\u001B[0;32m     11\u001B[0m \u001B[43m        \u001B[49m\u001B[43mattn_head\u001B[49m\u001B[38;5;241;43m=\u001B[39;49m\u001B[43margs\u001B[49m\u001B[43m[\u001B[49m\u001B[38;5;124;43m'\u001B[39;49m\u001B[38;5;124;43mATTENTION_HEAD\u001B[39;49m\u001B[38;5;124;43m'\u001B[39;49m\u001B[43m]\u001B[49m\u001B[43m,\u001B[49m\n\u001B[0;32m     12\u001B[0m \u001B[43m        \u001B[49m\u001B[43mlearning_rate\u001B[49m\u001B[38;5;241;43m=\u001B[39;49m\u001B[43margs\u001B[49m\u001B[43m[\u001B[49m\u001B[38;5;124;43m'\u001B[39;49m\u001B[38;5;124;43mLEARNING_RATE\u001B[39;49m\u001B[38;5;124;43m'\u001B[39;49m\u001B[43m]\u001B[49m\u001B[43m,\u001B[49m\n\u001B[0;32m     13\u001B[0m \u001B[43m        \u001B[49m\u001B[43mencoder_type\u001B[49m\u001B[38;5;241;43m=\u001B[39;49m\u001B[43margs\u001B[49m\u001B[43m[\u001B[49m\u001B[38;5;124;43m'\u001B[39;49m\u001B[38;5;124;43mENCODER_TYPE\u001B[39;49m\u001B[38;5;124;43m'\u001B[39;49m\u001B[43m]\u001B[49m\u001B[43m,\u001B[49m\n\u001B[0;32m     14\u001B[0m \u001B[43m        \u001B[49m\u001B[43mdecoder_type\u001B[49m\u001B[38;5;241;43m=\u001B[39;49m\u001B[43margs\u001B[49m\u001B[43m[\u001B[49m\u001B[38;5;124;43m'\u001B[39;49m\u001B[38;5;124;43mDECODER_TYPE\u001B[39;49m\u001B[38;5;124;43m'\u001B[39;49m\u001B[43m]\u001B[49m\u001B[43m,\u001B[49m\n\u001B[0;32m     15\u001B[0m \n\u001B[0;32m     16\u001B[0m \u001B[43m        \u001B[49m\u001B[43minput_vocab\u001B[49m\u001B[38;5;241;43m=\u001B[39;49m\u001B[43mtrainset\u001B[49m\u001B[38;5;241;43m.\u001B[39;49m\u001B[43minput_vocab\u001B[49m\u001B[43m,\u001B[49m\n\u001B[0;32m     17\u001B[0m \u001B[43m        \u001B[49m\u001B[43mtarget_vocab\u001B[49m\u001B[38;5;241;43m=\u001B[39;49m\u001B[43mtrainset\u001B[49m\u001B[38;5;241;43m.\u001B[39;49m\u001B[43mtarget_vocab\u001B[49m\u001B[43m,\u001B[49m\n\u001B[0;32m     18\u001B[0m \u001B[43m        \u001B[49m\u001B[43minput_id_to_word\u001B[49m\u001B[38;5;241;43m=\u001B[39;49m\u001B[43mtrainset\u001B[49m\u001B[38;5;241;43m.\u001B[39;49m\u001B[43mid_to_word_input\u001B[49m\u001B[43m,\u001B[49m\n\u001B[0;32m     19\u001B[0m \u001B[43m        \u001B[49m\u001B[43mtarget_id_to_word\u001B[49m\u001B[38;5;241;43m=\u001B[39;49m\u001B[43mtrainset\u001B[49m\u001B[38;5;241;43m.\u001B[39;49m\u001B[43mid_to_word_target\u001B[49m\u001B[43m,\u001B[49m\n\u001B[0;32m     20\u001B[0m \n\u001B[0;32m     21\u001B[0m \u001B[43m        \u001B[49m\u001B[43mdropout_encoder\u001B[49m\u001B[38;5;241;43m=\u001B[39;49m\u001B[43margs\u001B[49m\u001B[43m[\u001B[49m\u001B[38;5;124;43m'\u001B[39;49m\u001B[38;5;124;43mDROPOUT_ENCODER\u001B[39;49m\u001B[38;5;124;43m'\u001B[39;49m\u001B[43m]\u001B[49m\u001B[43m,\u001B[49m\n\u001B[0;32m     22\u001B[0m \u001B[43m        \u001B[49m\u001B[43mdropout_decoder\u001B[49m\u001B[38;5;241;43m=\u001B[39;49m\u001B[43margs\u001B[49m\u001B[43m[\u001B[49m\u001B[38;5;124;43m'\u001B[39;49m\u001B[38;5;124;43mDROPOUT_DECODER\u001B[39;49m\u001B[38;5;124;43m'\u001B[39;49m\u001B[43m]\u001B[49m\n\u001B[0;32m     23\u001B[0m \u001B[43m)\u001B[49m\n\u001B[0;32m     25\u001B[0m model \u001B[38;5;241m=\u001B[39m s2s_model\u001B[38;5;241m.\u001B[39mload_from_checkpoint(checkpoint)\n\u001B[0;32m     26\u001B[0m model\u001B[38;5;241m.\u001B[39meval()\n",
      "\u001B[1;31mTypeError\u001B[0m: __init__() missing 2 required positional arguments: 'hidden_encoder' and 'hidden_decoder'"
     ]
    }
   ],
   "source": [
    "# Initial Dataset\n",
    "trainset = en_de_dataset(split='train')\n",
    "# Initialize model parameters\n",
    "s2s_model = S2SPL(\n",
    "        vocab_size_encoder=len(trainset.input_vocab),\n",
    "        emb_dim=args['EMB_DIM'],\n",
    "        encoder_layers=args['ENCODER_LAYERS'],\n",
    "        bidirection=args['BIDIRECTION'],\n",
    "        vocab_size_decoder=len(trainset.target_vocab),\n",
    "        decoder_layers=args['DECODER_LAYERS'],\n",
    "        attn_head=args['ATTENTION_HEAD'],\n",
    "        learning_rate=args['LEARNING_RATE'],\n",
    "        encoder_type=args['ENCODER_TYPE'],\n",
    "        decoder_type=args['DECODER_TYPE'],\n",
    "\n",
    "        input_vocab=trainset.input_vocab,\n",
    "        target_vocab=trainset.target_vocab,\n",
    "        input_id_to_word=trainset.id_to_word_input,\n",
    "        target_id_to_word=trainset.id_to_word_target,\n",
    "\n",
    "        dropout_encoder=args['DROPOUT_ENCODER'],\n",
    "        dropout_decoder=args['DROPOUT_DECODER'],\n",
    "\n",
    ")\n",
    "\n",
    "model = s2s_model.load_from_checkpoint(checkpoint)\n",
    "model.eval()"
   ],
   "metadata": {
    "collapsed": false,
    "pycharm": {
     "name": "#%%\n"
    }
   }
  },
  {
   "cell_type": "code",
   "execution_count": null,
   "outputs": [],
   "source": [
    "model.translate('A man walking on the street')"
   ],
   "metadata": {
    "collapsed": false,
    "pycharm": {
     "name": "#%%\n"
    }
   }
  },
  {
   "cell_type": "code",
   "execution_count": null,
   "outputs": [],
   "source": [
    "input_pair, target_pair = trainset.random_pairs()\n",
    "print((input_pair, target_pair))\n",
    "model.translate(input_pair)"
   ],
   "metadata": {
    "collapsed": false,
    "pycharm": {
     "name": "#%%\n"
    }
   }
  }
 ],
 "metadata": {
  "kernelspec": {
   "display_name": "Python 3",
   "language": "python",
   "name": "python3"
  },
  "language_info": {
   "codemirror_mode": {
    "name": "ipython",
    "version": 2
   },
   "file_extension": ".py",
   "mimetype": "text/x-python",
   "name": "python",
   "nbconvert_exporter": "python",
   "pygments_lexer": "ipython2",
   "version": "2.7.6"
  }
 },
 "nbformat": 4,
 "nbformat_minor": 0
}