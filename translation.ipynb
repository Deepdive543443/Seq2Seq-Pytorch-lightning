{
 "cells": [
  {
   "cell_type": "code",
   "execution_count": 1,
   "metadata": {
    "collapsed": true,
    "pycharm": {
     "name": "#%%\n"
    }
   },
   "outputs": [
    {
     "name": "stderr",
     "output_type": "stream",
     "text": [
      "C:\\Users\\83577\\anaconda3\\envs\\torch\\lib\\site-packages\\torchtext\\data\\utils.py:105: UserWarning: Spacy model \"en\" could not be loaded, trying \"en_core_web_sm\" instead\n",
      "  warnings.warn(\n",
      "C:\\Users\\83577\\anaconda3\\envs\\torch\\lib\\site-packages\\torchtext\\data\\utils.py:105: UserWarning: Spacy model \"de\" could not be loaded, trying \"de_core_news_sm\" instead\n",
      "  warnings.warn(\n"
     ]
    }
   ],
   "source": [
    "import torch\n",
    "\n",
    "from models import S2SPL\n",
    "from dataset import en_de_dataset\n",
    "from utils import load_config_json\n",
    "import os\n",
    "from torchtext.data.metrics import bleu_score"
   ]
  },
  {
   "cell_type": "code",
   "execution_count": 2,
   "outputs": [
    {
     "name": "stdout",
     "output_type": "stream",
     "text": [
      "best\\DEVICEcuda BATCH_SIZE128 LEARNING_RATE0.0001 EPOCHS500 ENCODER_TYPEGRU DECODER_TYPEGRU ATTENTION_HEAD1 ENCODER_LAYERS2 DECODER_LAYERS2 EMB_DIM150 HIDDEN_ENCODER512 HIDDEN_DECODER512 DROPOUT_ENCODER0.5 DROPOUT_DECODER0.5 BIDIRECTIONFalse PAIR('de', 'en')\n",
      "\n",
      "best\\DEVICEcuda BATCH_SIZE128 LEARNING_RATE0.0001 EPOCHS500 ENCODER_TYPEGRU DECODER_TYPEGRU ATTENTION_HEAD1 ENCODER_LAYERS2 DECODER_LAYERS2 EMB_DIM150 HIDDEN_ENCODER512 HIDDEN_DECODER512 DROPOUT_ENCODER0.5 DROPOUT_DECODER0.5 BIDIRECTIONFalse PAIR('de', 'en')\\-epoch=121-valid_loss=2.95-validation.ckpt\n",
      "\n",
      "best\\DEVICEcuda BATCH_SIZE128 LEARNING_RATE0.0001 EPOCHS500 ENCODER_TYPEGRU DECODER_TYPEGRU ATTENTION_HEAD1 ENCODER_LAYERS2 DECODER_LAYERS2 EMB_DIM150 HIDDEN_ENCODER512 HIDDEN_DECODER512 DROPOUT_ENCODER0.5 DROPOUT_DECODER0.5 BIDIRECTIONFalse PAIR('de', 'en')\\config.json\n"
     ]
    }
   ],
   "source": [
    "path = \"DEVICEcuda BATCH_SIZE128 LEARNING_RATE0.0001 EPOCHS500 ENCODER_TYPEGRU DECODER_TYPEGRU ATTENTION_HEAD1 ENCODER_LAYERS2 DECODER_LAYERS2 EMB_DIM150 HIDDEN_ENCODER512 HIDDEN_DECODER512 DROPOUT_ENCODER0.5 DROPOUT_DECODER0.5 BIDIRECTIONFalse PAIR('de', 'en')\"  #os.listdir('best')[-1] # could be replaced by the folder name\n",
    "path = os.path.join('best', path)\n",
    "\n",
    "checkpoint = '-epoch=121-valid_loss=2.95-validation.ckpt'#os.listdir(path)[0] # could be replaced by your own\n",
    "checkpoint = os.path.join(path, checkpoint)\n",
    "\n",
    "params = os.path.join(path, 'config.json')\n",
    "\n",
    "print(path + '\\n')\n",
    "print(checkpoint + '\\n')\n",
    "print(params)\n",
    "\n",
    "# Initialize args\n",
    "args = load_config_json(params)\n",
    "\n",
    "args['DEVICE'] = 'cpu'"
   ],
   "metadata": {
    "collapsed": false,
    "pycharm": {
     "name": "#%%\n"
    }
   }
  },
  {
   "cell_type": "code",
   "execution_count": 3,
   "outputs": [
    {
     "name": "stdout",
     "output_type": "stream",
     "text": [
      "Input vocab size: 8014\n",
      "Target vocab size: 6191\n"
     ]
    },
    {
     "data": {
      "text/plain": "S2SPL(\n  (encoder): RNNEncoder(\n    (emb): Embedding(8014, 150)\n    (rnn): GRU(150, 512, num_layers=2, dropout=0.5)\n    (dropout): Dropout(p=0.5, inplace=False)\n  )\n  (decoder): RNNDecoder(\n    (emb): Embedding(6191, 150)\n    (rnn): GRU(150, 512, num_layers=2, dropout=0.5)\n    (dropout): Dropout(p=0.5, inplace=False)\n    (decode): Linear(in_features=512, out_features=6191, bias=True)\n  )\n  (cross_entrophy): CrossEntropyLoss()\n)"
     },
     "execution_count": 3,
     "metadata": {},
     "output_type": "execute_result"
    }
   ],
   "source": [
    "# Initial Dataset\n",
    "trainset = en_de_dataset(split='train', pair=args['PAIR'])\n",
    "# Initialize model parameters\n",
    "s2s_model = S2SPL(\n",
    "        vocab_size_encoder=len(trainset.input_vocab),\n",
    "        vocab_size_decoder=len(trainset.target_vocab),\n",
    "        input_vocab=trainset.input_vocab,\n",
    "        target_vocab=trainset.target_vocab,\n",
    "        input_id_to_word=trainset.id_to_word_input,\n",
    "        target_id_to_word=trainset.id_to_word_target,\n",
    "        args=args\n",
    ")\n",
    "\n",
    "\n",
    "model = s2s_model.load_from_checkpoint(checkpoint)\n",
    "model.eval()"
   ],
   "metadata": {
    "collapsed": false,
    "pycharm": {
     "name": "#%%\n"
    }
   }
  },
  {
   "cell_type": "code",
   "execution_count": 29,
   "outputs": [
    {
     "data": {
      "text/plain": "('A man walking by the railroad .', 0.0)"
     },
     "execution_count": 29,
     "metadata": {},
     "output_type": "execute_result"
    }
   ],
   "source": [
    "output = model.translate('Ein Mann geht am Strasse', 'A man walking on the street.' )\n",
    "\n",
    "output"
   ],
   "metadata": {
    "collapsed": false,
    "pycharm": {
     "name": "#%%\n"
    }
   }
  },
  {
   "cell_type": "code",
   "execution_count": 32,
   "outputs": [
    {
     "name": "stdout",
     "output_type": "stream",
     "text": [
      "('Eine Frau, die auf einem Platz einen Tennisschläger hält.', 'A woman holding a tennis racket on a court.')\n",
      "('A woman swinging a tennis racket on a court .', 0.45180100202560425)\n"
     ]
    }
   ],
   "source": [
    "input_pair, target_pair = trainset.random_pairs()\n",
    "print((input_pair, target_pair))\n",
    "print(model.translate(input_pair, target_pair))"
   ],
   "metadata": {
    "collapsed": false,
    "pycharm": {
     "name": "#%%\n"
    }
   }
  },
  {
   "cell_type": "code",
   "execution_count": 292,
   "outputs": [
    {
     "name": "stdout",
     "output_type": "stream",
     "text": [
      "tensor([[[4.1490e-21, 2.8758e-12, 6.0386e-10, 2.8572e-04, 4.3376e-07,\n",
      "          5.2479e-02, 9.4723e-01, 0.0000e+00, 0.0000e+00, 0.0000e+00],\n",
      "         [4.1188e-14, 1.7602e-19, 7.9917e-13, 1.0915e-04, 4.2903e-12,\n",
      "          4.4508e-20, 9.9989e-01, 0.0000e+00, 0.0000e+00, 0.0000e+00]],\n",
      "\n",
      "        [[1.2221e-06, 9.9147e-01, 4.7685e-04, 8.0489e-03, 1.2331e-10,\n",
      "          0.0000e+00, 0.0000e+00, 0.0000e+00, 0.0000e+00, 0.0000e+00],\n",
      "         [4.0651e-15, 1.0000e+00, 9.2983e-19, 6.2053e-09, 6.2126e-21,\n",
      "          0.0000e+00, 0.0000e+00, 0.0000e+00, 0.0000e+00, 0.0000e+00]]])\n",
      "torch.Size([2, 2, 300])\n",
      "torch.Size([2, 2, 300])\n",
      "torch.Size([1, 2, 300]) torch.Size([1, 2, 300])\n"
     ]
    }
   ],
   "source": [
    "import math\n",
    "def attn(query, key, value, input_indice):\n",
    "\n",
    "        input_indice_ext = input_indice.unsqueeze(1).repeat(1, query.shape[0], 1)\n",
    "        query = query.permute(1, 0, 2) # [seq_dec, batch, features] -> [batch, seq_dec, features]\n",
    "        key = key.permute(1, 2, 0) # [seq_enc, batch, features] -> [batch, features, seq_enc]\n",
    "        value =  value.permute(1, 0, 2)\n",
    "        # Getting attention score with mask\n",
    "        score = torch.bmm(query, key)/ math.sqrt(query.shape[1]) # [batch, seq_dec, seq_enc]\n",
    "        score[input_indice_ext == 0] = -9e3\n",
    "\n",
    "\n",
    "        score = torch.softmax(score, dim=2)\n",
    "        print(score)\n",
    "\n",
    "        attn_output = torch.bmm(score, value)\n",
    "        print(attn_output.shape)\n",
    "        return attn_output.permute(1, 0, 2)\n",
    "\n",
    "\n",
    "\n",
    "query = torch.randn(2, 2, 300)\n",
    "\n",
    "input_indice = torch.randint(4, 9000, (2, 10))\n",
    "input_indice[0, -4:] = 0\n",
    "input_indice[1, -6:] = 0\n",
    "input_indice[0, -4] = 3\n",
    "input_indice[1, -6] = 3\n",
    "key = torch.randn(10, 2, 300)\n",
    "value = key\n",
    "\n",
    "print(attn(query, key, value, input_indice).shape)\n",
    "print(key[(input_indice == 3).T].unsqueeze(0).shape, key[-1].unsqueeze(0).shape)"
   ],
   "metadata": {
    "collapsed": false,
    "pycharm": {
     "name": "#%%\n"
    }
   }
  }
 ],
 "metadata": {
  "kernelspec": {
   "display_name": "Python 3",
   "language": "python",
   "name": "python3"
  },
  "language_info": {
   "codemirror_mode": {
    "name": "ipython",
    "version": 2
   },
   "file_extension": ".py",
   "mimetype": "text/x-python",
   "name": "python",
   "nbconvert_exporter": "python",
   "pygments_lexer": "ipython2",
   "version": "2.7.6"
  }
 },
 "nbformat": 4,
 "nbformat_minor": 0
}